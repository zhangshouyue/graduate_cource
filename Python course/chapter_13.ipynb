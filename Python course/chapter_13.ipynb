{
 "cells": [
  {
   "cell_type": "code",
   "execution_count": 1,
   "metadata": {},
   "outputs": [],
   "source": [
    "from scipy import stats\n",
    "from scipy import optimize"
   ]
  },
  {
   "cell_type": "code",
   "execution_count": 2,
   "metadata": {},
   "outputs": [],
   "source": [
    "import numpy as np\n",
    "import matplotlib.pyplot as plt\n",
    "import seaborn as sns#这个模块设置了图的背景表格\n",
    "sns.set(style=\"whitegrid\")"
   ]
  },
  {
   "cell_type": "code",
   "execution_count": 5,
   "metadata": {},
   "outputs": [
    {
     "data": {
      "text/plain": [
       "3.1"
      ]
     },
     "execution_count": 5,
     "metadata": {},
     "output_type": "execute_result"
    }
   ],
   "source": [
    "x = np.array([3.5, 1.1, 3.2, 2.8, 6.7, 4.4, 0.9, 2.2])\n",
    "np.mean(x)#平均值"
   ]
  },
  {
   "cell_type": "code",
   "execution_count": 6,
   "metadata": {},
   "outputs": [
    {
     "data": {
      "text/plain": [
       "3.0"
      ]
     },
     "execution_count": 6,
     "metadata": {},
     "output_type": "execute_result"
    }
   ],
   "source": [
    "np.median(x)    #中值"
   ]
  },
  {
   "cell_type": "code",
   "execution_count": 7,
   "metadata": {},
   "outputs": [
    {
     "data": {
      "text/plain": [
       "3.1"
      ]
     },
     "execution_count": 7,
     "metadata": {},
     "output_type": "execute_result"
    }
   ],
   "source": [
    "x.mean()#跟np.mean(x)效果一样"
   ]
  },
  {
   "cell_type": "code",
   "execution_count": 8,
   "metadata": {},
   "outputs": [
    {
     "data": {
      "text/plain": [
       "(0.9, 6.7)"
      ]
     },
     "execution_count": 8,
     "metadata": {},
     "output_type": "execute_result"
    }
   ],
   "source": [
    "x.min(), x.max()"
   ]
  },
  {
   "cell_type": "code",
   "execution_count": 9,
   "metadata": {},
   "outputs": [
    {
     "data": {
      "text/plain": [
       "3.0700000000000007"
      ]
     },
     "execution_count": 9,
     "metadata": {},
     "output_type": "execute_result"
    }
   ],
   "source": [
    "x.var()#方差"
   ]
  },
  {
   "cell_type": "code",
   "execution_count": 10,
   "metadata": {},
   "outputs": [
    {
     "data": {
      "text/plain": [
       "1.7521415467935233"
      ]
     },
     "execution_count": 10,
     "metadata": {},
     "output_type": "execute_result"
    }
   ],
   "source": [
    "x.std()#标准偏差   对3.0700000000000007求"
   ]
  },
  {
   "cell_type": "code",
   "execution_count": 11,
   "metadata": {},
   "outputs": [
    {
     "data": {
      "text/plain": [
       "array([0.81688336, 0.72489765, 0.70000386, 0.62007622, 0.10576929])"
      ]
     },
     "execution_count": 11,
     "metadata": {},
     "output_type": "execute_result"
    }
   ],
   "source": [
    "np.random.rand(5)"
   ]
  },
  {
   "cell_type": "code",
   "execution_count": 12,
   "metadata": {},
   "outputs": [
    {
     "data": {
      "text/plain": [
       "array([[0.63121547, 0.5354932 , 0.85160136, 0.75596228],\n",
       "       [0.62610362, 0.66346027, 0.01316069, 0.78887334]])"
      ]
     },
     "execution_count": 12,
     "metadata": {},
     "output_type": "execute_result"
    }
   ],
   "source": [
    "np.random.rand(2,4)"
   ]
  },
  {
   "cell_type": "code",
   "execution_count": 13,
   "metadata": {},
   "outputs": [
    {
     "data": {
      "text/plain": [
       "array([4, 7, 0, 2, 6, 3, 5, 9, 7, 1])"
      ]
     },
     "execution_count": 13,
     "metadata": {},
     "output_type": "execute_result"
    }
   ],
   "source": [
    "np.random.randint(10, size=10)"
   ]
  },
  {
   "cell_type": "code",
   "execution_count": 15,
   "metadata": {},
   "outputs": [
    {
     "data": {
      "text/plain": [
       "array([[19, 14, 19, 14, 12, 15, 16, 10, 13, 15],\n",
       "       [17, 17, 15, 19, 16, 14, 18, 14, 19, 16]])"
      ]
     },
     "execution_count": 15,
     "metadata": {},
     "output_type": "execute_result"
    }
   ],
   "source": [
    "np.random.randint(low=10, high=20, size=(2, 10))#最低10，最高20，2行10列"
   ]
  },
  {
   "cell_type": "code",
   "execution_count": 7,
   "metadata": {},
   "outputs": [
    {
     "data": {
      "text/plain": [
       "Text(0.5, 1.0, 'randint(low=1, high=10)')"
      ]
     },
     "execution_count": 7,
     "metadata": {},
     "output_type": "execute_result"
    },
    {
     "data": {
      "image/png": "[encoded data removed]",
      "text/plain": [
       "<Figure size 864x216 with 3 Axes>"
      ]
     },
     "metadata": {
      "needs_background": "light"
     },
     "output_type": "display_data"
    }
   ],
   "source": [
    "fig, axes = plt.subplots(1, 3, figsize=(12, 3))#12，3表示宽和高    fig就是figure:画像，画图，图片变量\n",
    "#ax=plt.subplots(m,n,figsize=(a,b))画出m*n个子图，size为a*b，ax为m*n的坐标变量（数组），分别指向相应生成字图的坐标\n",
    "axes[0].hist(np.random.rand(10000))#取样10000次\n",
    "axes[0].set_title(\"rand\")\n",
    "axes[1].hist(np.random.randn(10000),100)#randn  表示高斯分布,后边加的那个100表示100个区间\n",
    "axes[1].set_title(\"randn\")\n",
    "axes[2].hist(np.random.randint(low=1, high=10, size=10000),\n",
    "bins=9, align='left')\n",
    "axes[2].set_title(\"randint(low=1, high=10)\")#这里必须是axes[0]到axes[2],,,换个就不行，axes[1]-axes[3]就不行"
   ]
  },
  {
   "cell_type": "code",
   "execution_count": 18,
   "metadata": {},
   "outputs": [],
   "source": [
    "a=np.random.randn(1000)"
   ]
  },
  {
   "cell_type": "code",
   "execution_count": 19,
   "metadata": {},
   "outputs": [
    {
     "data": {
      "text/plain": [
       "array([ 7.09045131e-01,  8.39574055e-01,  6.03834343e-01, -4.39979397e-01,\n",
       "       -1.09374984e+00, -8.41613173e-01, -1.33884204e-01, -1.54363546e+00,\n",
       "       -1.29121615e+00,  1.45460161e-01, -2.22961506e-01, -5.02383070e-01,\n",
       "        5.18435810e-01, -3.78572671e-01,  4.64524484e-01,  4.75573990e-01,\n",
       "        1.98480975e-01,  1.27933514e+00,  1.00571259e+00, -1.63243274e+00,\n",
       "       -2.96311134e-01,  1.25784792e+00,  8.67680239e-01,  1.40555114e+00,\n",
       "       -1.44066150e-01, -4.32308869e-01, -1.11071879e+00, -6.98678648e-01,\n",
       "       -4.58487558e-01,  1.37859850e+00,  2.03593155e-01, -6.95891967e-01,\n",
       "        1.82407800e-01, -1.04504982e-01, -4.62221459e-01,  1.00848919e+00,\n",
       "       -6.11913832e-01, -1.28185559e+00, -1.81975637e-01, -1.09773248e+00,\n",
       "       -9.58961545e-01,  6.78729142e-02, -1.15722124e+00,  7.16213933e-01,\n",
       "       -2.22859740e+00,  7.79856872e-02,  1.98446509e+00,  1.18046972e+00,\n",
       "        1.40268008e-01, -1.93155827e+00, -1.33784130e+00, -1.01318693e+00,\n",
       "        1.19456539e+00, -9.21628637e-01,  3.37056426e-02,  2.87081446e-01,\n",
       "       -6.52920260e-01,  6.60326459e-01,  9.10673612e-01, -1.34970236e+00,\n",
       "       -5.26326138e-01,  1.76593383e+00, -4.29925719e-01, -3.72783522e-01,\n",
       "        1.89718440e+00,  4.65717493e-01,  1.20425369e+00,  7.75044863e-01,\n",
       "        4.92131554e-01, -5.47120724e-01,  2.97254270e-01, -1.15416344e+00,\n",
       "       -5.66065887e-01,  1.69858699e+00, -1.10226438e+00, -7.20693489e-01,\n",
       "        4.47878465e-02, -1.99452385e+00, -2.18759132e+00,  3.05305805e-01,\n",
       "        1.01149667e-01,  9.74178262e-01, -8.10985195e-01, -9.96253686e-01,\n",
       "        1.45557232e+00,  9.87801341e-01,  9.85855733e-01, -9.46094272e-01,\n",
       "       -5.71221752e-01, -4.92682682e-01, -2.35329489e-01, -9.79053806e-01,\n",
       "       -2.41469774e+00,  1.29621695e+00,  6.40072294e-01,  1.08025886e+00,\n",
       "        2.66185538e-01, -1.84562855e-01,  3.53104174e-01, -1.01204933e+00,\n",
       "       -1.22709862e-02, -1.17160339e+00,  1.25478282e+00, -7.19769001e-01,\n",
       "        1.35967827e-01, -6.94287841e-01, -7.86382950e-01, -1.99042160e-02,\n",
       "       -4.30447987e-01,  6.73036941e-02, -7.08931497e-01, -4.07701057e-01,\n",
       "       -3.73056188e-01,  5.34278994e-01, -3.27371905e-01,  1.68379503e+00,\n",
       "       -5.37599725e-01, -3.74074186e-01, -6.59991727e-01, -1.61164659e-01,\n",
       "        2.57351252e-01,  1.15967777e+00,  1.04659315e+00,  7.39099565e-01,\n",
       "        1.15386494e+00,  9.48065153e-01,  2.50739034e-01,  9.07262019e-01,\n",
       "       -1.60282178e+00, -7.34115983e-01, -8.75430890e-01,  3.67970981e-01,\n",
       "       -6.19249845e-01, -2.94168943e-01,  6.89319012e-01, -4.30485731e-01,\n",
       "       -6.95862648e-02, -3.82922067e-01, -4.60081285e-01,  2.43500427e+00,\n",
       "       -6.51780299e-01,  1.87446918e-02,  8.92431373e-01,  4.84760425e-01,\n",
       "        1.44695376e+00, -5.69816043e-01,  1.30441381e+00,  8.68271829e-02,\n",
       "       -6.31077977e-01,  1.36078430e+00, -1.82754200e+00, -4.16985095e-01,\n",
       "        3.80927407e-01, -3.03764545e-01, -4.97981201e-01, -8.56635947e-01,\n",
       "       -5.47428278e-01, -6.20720876e-01,  4.43250154e-01,  9.47980302e-01,\n",
       "        1.83412435e+00,  1.31617661e-02, -2.63653855e-01,  2.70914671e-03,\n",
       "        2.07964553e-01, -3.10569544e-01,  1.00762155e+00,  6.36555140e-01,\n",
       "        2.15179527e-01,  4.58821050e-01,  3.03452557e-01, -3.67642975e-01,\n",
       "       -1.14617643e+00,  2.16216507e-01, -4.93738197e-01,  8.16333582e-01,\n",
       "        1.70427903e-03,  5.21328517e-01,  5.47685845e-01,  6.26749738e-01,\n",
       "       -1.70012858e+00,  1.53997158e+00, -1.76244407e+00,  1.10653732e+00,\n",
       "       -1.46053619e+00, -8.56882688e-01,  1.09115639e+00, -2.58100992e-02,\n",
       "       -4.89290971e-01, -2.52374233e+00, -1.05977484e-01, -8.89249140e-01,\n",
       "        6.92843232e-01, -9.12088967e-02,  5.30526131e-01, -3.51831506e-01,\n",
       "        1.64144847e+00,  1.15321401e+00, -6.07880843e-01, -9.29382394e-02,\n",
       "        6.09736225e-01,  6.87883488e-01,  8.19625705e-01,  2.93201862e-02,\n",
       "       -4.09418722e-01, -1.68971409e+00, -1.06634365e+00, -7.09564161e-01,\n",
       "       -1.12558587e-01, -2.27878649e-01,  1.17185689e-01, -1.96593402e-01,\n",
       "        3.28829339e-01,  1.62662523e-01,  5.53030168e-01,  4.30043252e-01,\n",
       "        3.37697983e-01,  1.13524540e+00,  1.34683138e+00,  2.03315278e+00,\n",
       "       -5.89182880e-01,  4.90602510e-01,  9.09832401e-01,  7.86576669e-01,\n",
       "       -1.21006505e+00,  4.81550039e-01,  2.93228556e-01, -4.84388627e-01,\n",
       "        1.27790926e+00, -1.27597306e+00, -9.73033595e-01, -8.30944046e-01,\n",
       "        1.72470686e+00, -3.81371421e-01, -4.90592752e-01,  4.65308008e-01,\n",
       "        1.33622830e+00, -9.82789864e-02, -1.69790404e+00,  3.24563166e-01,\n",
       "        2.95649839e-01, -8.91209061e-01, -3.22192566e-01, -1.85740190e+00,\n",
       "        1.26315816e+00, -1.62910858e+00,  1.76913269e+00,  2.44996796e-01,\n",
       "        7.29141400e-01,  4.02350302e-01,  1.80093213e+00, -8.65784067e-01,\n",
       "       -2.93539971e-01,  1.96717900e+00,  3.42576945e-02,  1.30322574e-01,\n",
       "       -7.45735329e-01,  5.58689428e-01,  1.00841821e+00,  9.46417096e-01,\n",
       "        2.37236633e-01,  3.98815389e-01, -2.93767382e-01,  5.15433230e-01,\n",
       "        1.07255220e-01,  4.14562584e-01, -1.21086539e-01,  1.71162584e-01,\n",
       "       -9.69352228e-02,  6.45915854e-01, -6.56344199e-01,  2.52047005e+00,\n",
       "        2.81792447e+00, -3.39204467e-02, -3.14413659e+00,  9.04714112e-01,\n",
       "        8.62655174e-01, -1.23500253e+00,  2.69769893e-01,  1.64773883e-01,\n",
       "       -8.92167159e-01,  2.20993548e+00,  6.05935967e-01, -1.15239226e+00,\n",
       "        5.61179392e-01, -5.79881216e-01, -9.67207027e-01, -3.99147125e-01,\n",
       "       -7.35015654e-01,  9.83380767e-01, -1.08896153e+00,  1.68310078e-02,\n",
       "        1.93688301e-01,  1.31091311e+00, -1.37968529e+00, -5.56253063e-01,\n",
       "        1.08672570e+00,  1.21011421e+00, -4.45753417e-01, -2.51931230e+00,\n",
       "       -1.46466998e+00, -4.65583911e-01,  1.42079737e-01,  9.40803135e-01,\n",
       "       -7.65319441e-01, -3.65860850e-01,  4.67767213e-01, -6.57234182e-02,\n",
       "       -1.14059064e+00,  1.31676003e+00,  1.82480334e-01,  9.79911237e-01,\n",
       "       -4.13401822e-02,  1.39178015e+00,  7.65925707e-01, -6.15744464e-01,\n",
       "        1.38720047e+00,  9.31039633e-01,  1.09038259e+00,  3.02685682e-01,\n",
       "       -1.58386227e+00, -6.13681177e-01,  2.56843474e-01, -4.85394105e-02,\n",
       "        2.33189295e-01,  4.98367425e-01,  1.86445918e-01,  8.96996045e-02,\n",
       "        8.52185856e-01, -1.61495631e-01, -4.91231404e-01, -1.94755811e-01,\n",
       "       -1.03548699e+00,  6.92367534e-01,  4.29244890e-01,  1.28622592e-01,\n",
       "       -7.35030866e-01, -6.89654411e-01, -1.32764920e+00, -2.16781042e-01,\n",
       "        1.01386745e+00, -3.69374425e-01,  6.90671575e-02, -1.58907964e+00,\n",
       "        4.58166213e-02,  2.16142138e-01, -3.94642953e-01,  8.05967589e-01,\n",
       "       -1.65673593e+00, -5.85175198e-01,  1.24420539e+00, -5.74903341e-01,\n",
       "        1.77864124e-01, -1.66876198e+00,  1.86989381e+00, -6.97565182e-03,\n",
       "        1.92553040e-02, -1.76698073e+00,  4.33960081e-01, -1.79951417e+00,\n",
       "       -6.65270570e-01,  2.44313284e+00, -1.25074715e-01,  3.13141426e-01,\n",
       "       -1.30431388e+00, -3.68763127e-01,  4.33800781e-01,  2.50666133e-01,\n",
       "        9.10476852e-01,  9.76386182e-01,  4.51357301e-01, -4.53806735e-01,\n",
       "        1.31282040e+00, -8.11370688e-01, -4.88622361e-01,  1.61144327e+00,\n",
       "        1.26422077e+00, -3.22332715e-01, -1.18815900e+00, -7.92849516e-01,\n",
       "        2.27583446e-01, -1.10797947e+00, -6.81025128e-01, -8.68110007e-01,\n",
       "        4.27096377e-01,  1.84350503e-02,  8.22845227e-01,  1.46280448e+00,\n",
       "        6.55297236e-01, -2.97066107e-01, -7.91964908e-01,  2.45737216e-01,\n",
       "        2.24397606e+00,  2.16619590e+00, -3.10279773e+00, -1.11921160e-01,\n",
       "        2.24582436e+00,  1.54293352e+00,  1.13958795e+00,  7.51982191e-02,\n",
       "        7.60826743e-01,  1.91315153e+00,  4.96029864e-01, -5.36913743e-01,\n",
       "        9.57949634e-01, -1.55091576e+00,  8.78436762e-01, -5.11983683e-01,\n",
       "        7.00259112e-01,  2.67484299e-01,  1.53828885e+00,  7.61615409e-01,\n",
       "        5.24033067e-01,  5.12232932e-01, -4.00590742e-01,  1.36455503e+00,\n",
       "       -8.32260615e-01,  4.46854010e-01, -1.23062928e+00,  4.63524197e-01,\n",
       "       -5.21318684e-01, -1.69890897e-01,  1.57771615e-01,  9.71919296e-01,\n",
       "        1.21245224e-01, -2.15322808e-01, -2.24710277e-01,  1.89165619e+00,\n",
       "       -1.00977729e+00, -4.73651235e-01, -6.97973880e-01, -7.79378325e-01,\n",
       "       -6.11158912e-01,  1.36719748e+00,  1.78904541e+00,  7.69639701e-01,\n",
       "        5.71273210e-01, -8.30893186e-02,  1.73050006e-01,  1.49319453e+00,\n",
       "        2.63485317e-01, -1.10961807e+00,  6.16448241e-01, -1.48465530e+00,\n",
       "       -2.52775555e-01,  3.53278805e-02, -3.57029077e-01,  4.34945043e-01,\n",
       "        5.91731460e-01,  6.36505881e-02,  4.14678791e-01, -5.78025970e-01,\n",
       "        1.44986024e+00, -2.32222556e-02,  7.62683302e-02,  1.11812831e+00,\n",
       "       -1.83087366e-02,  1.65403590e-01,  1.41912295e+00,  1.64730633e+00,\n",
       "        3.36302598e-01, -1.61801535e+00, -3.53565277e-01,  4.92230640e-01,\n",
       "        3.27121772e-01,  1.87512792e+00, -1.67795250e-01,  4.73007515e-01,\n",
       "        6.49160331e-01,  1.38812482e-01,  1.10850554e+00,  1.34957583e+00,\n",
       "       -2.17790694e+00, -7.85988574e-01,  3.40248563e-01, -1.24095651e+00,\n",
       "        8.59951086e-02,  7.97073828e-01,  6.80338164e-01, -1.07971539e-01,\n",
       "       -1.53735174e+00,  3.00894045e-01,  1.42733759e+00,  1.51481238e+00,\n",
       "       -1.53209072e-01, -2.40437148e+00, -1.47448488e+00, -5.16253211e-01,\n",
       "        1.24849332e+00,  1.00006898e+00,  1.36121491e+00, -1.38655273e+00,\n",
       "        1.34048646e+00, -2.03580992e-02, -1.00776923e+00,  9.46473410e-01,\n",
       "       -3.96118746e-01,  5.98528232e-01,  1.04272514e+00, -7.17283276e-02,\n",
       "       -3.02188964e-01, -8.45731507e-01,  8.26197519e-01,  2.30200099e-01,\n",
       "       -3.98879774e-01,  5.87522766e-01,  2.03289788e-02, -2.45873260e-01,\n",
       "       -1.80187892e+00, -3.82235019e-01, -1.97054984e+00, -1.64762351e+00,\n",
       "       -1.45448635e+00,  6.56366443e-01,  2.21765740e-01,  3.45875353e-01,\n",
       "       -1.52757487e+00,  8.35549699e-02, -1.12428164e+00, -8.05423170e-01,\n",
       "       -7.74898189e-01, -6.31370132e-01,  1.30278922e+00, -1.82101885e-01,\n",
       "        9.10129323e-01,  4.00061075e-01, -2.79369592e-01,  6.76764406e-01,\n",
       "        6.20171354e-01,  3.01928219e+00, -1.11432447e+00, -1.33752603e-01,\n",
       "       -1.51217459e+00, -3.93296221e-01,  8.19316004e-02, -7.97205426e-01,\n",
       "        1.05984213e+00, -4.23718401e-01,  5.08805223e-01, -2.44336332e+00,\n",
       "       -1.26769010e-01,  1.20414195e+00,  4.31154360e-01, -5.42047573e-01,\n",
       "        5.79584619e-01, -6.97789269e-01,  5.86113677e-01,  1.48668663e+00,\n",
       "        4.28091094e-01,  9.83288896e-01,  1.33870897e-01, -4.77115762e-01,\n",
       "        3.51206580e-01,  7.33635231e-01, -2.63859022e-01,  8.81170503e-01,\n",
       "        9.37754791e-02,  3.80124641e-01, -6.26633060e-01, -1.14018452e+00,\n",
       "        5.98816406e-01,  1.35818544e+00, -5.30170192e-01,  6.39412430e-01,\n",
       "        6.11383300e-01, -4.28079966e-01,  7.59355260e-01,  2.03331086e+00,\n",
       "        1.31783824e+00, -8.97371395e-01,  1.89663371e-01, -6.43890997e-01,\n",
       "       -2.91647739e-01, -4.21530016e-03,  7.88647857e-01, -2.82955888e-01,\n",
       "        4.88251933e-01, -4.83508095e-01,  2.21735462e-01, -1.21913755e+00,\n",
       "       -6.91367971e-01,  8.83950624e-01, -2.23783361e-01, -5.18908036e-01,\n",
       "        1.51531315e+00,  4.11117408e-01, -2.80791147e-01,  3.66246922e-01,\n",
       "       -2.22378539e-01, -2.03978791e-01, -5.88527120e-01,  4.72131119e-01,\n",
       "        1.92415092e-01,  3.45127575e-01, -6.58380255e-01,  1.24504545e+00,\n",
       "        2.53615433e+00,  1.76248312e+00,  5.60351834e-01,  1.08155098e+00,\n",
       "       -6.08289806e-01,  1.91597513e+00,  2.98731382e-01,  4.20993277e-01,\n",
       "        6.02625393e-01, -9.83750263e-02,  1.80367198e+00,  9.89196286e-01,\n",
       "       -8.13993668e-01,  2.31880831e-01,  1.41239706e+00,  9.38630396e-01,\n",
       "        9.68483543e-02,  5.51498064e-01, -4.65736315e-01, -2.30912872e-01,\n",
       "       -7.97741076e-01, -4.60846828e-01,  5.38972038e-01, -9.78208634e-01,\n",
       "        4.37867355e-01,  4.83775531e-01, -8.21963497e-01,  1.95930190e+00,\n",
       "       -1.54771076e+00,  1.39063530e-01, -1.32397025e-01, -2.63288795e-01,\n",
       "        1.03235809e-01,  1.08296073e+00, -1.02198715e+00,  1.43545668e-01,\n",
       "       -1.04720281e+00,  6.73405121e-01,  8.10998428e-01, -1.16617986e+00,\n",
       "        1.29787489e+00,  1.11981913e+00,  7.85059929e-01,  2.01412995e+00,\n",
       "       -2.77405877e-01, -1.25062125e+00,  1.75508034e+00, -5.44432608e-01,\n",
       "        5.08416962e-01,  1.72520356e+00,  2.41757037e-01,  1.17329813e+00,\n",
       "       -3.75432877e-01, -2.90859284e-01,  1.44072292e+00, -1.02641686e+00,\n",
       "       -1.70842688e+00, -1.09688933e+00,  4.73609600e-01, -3.11732111e-01,\n",
       "        1.28254532e+00, -6.59859008e-01, -5.05501691e-01, -9.82682083e-01,\n",
       "        3.10139106e-01, -1.47089244e+00,  2.49718612e-01, -1.03148587e-01,\n",
       "       -7.49253354e-01, -4.12042083e-01, -1.18134769e+00, -8.11773913e-01,\n",
       "       -4.63543015e-01,  6.63054480e-01, -3.39653751e-01, -5.18589764e-02,\n",
       "       -2.04893539e-01, -3.23242265e-01, -1.32747819e+00, -3.48748571e-01,\n",
       "       -9.59028132e-02,  7.50905339e-01, -8.57016612e-01,  1.33543742e+00,\n",
       "       -9.87035482e-02, -1.22192906e-01,  6.69120939e-01,  7.21207617e-01,\n",
       "       -2.14703662e+00, -1.55196905e+00,  6.77555078e-01,  2.23443512e-01,\n",
       "        1.02149992e+00, -5.12926617e-01, -8.79762722e-01,  2.24448910e+00,\n",
       "       -7.31309710e-01, -1.61543107e+00,  2.61541713e-01,  2.01984586e-01,\n",
       "        9.17968386e-01, -9.65391818e-01, -2.74772126e-01,  4.76627923e-01,\n",
       "       -9.04454638e-01,  9.03175309e-01, -8.78374908e-01,  3.36548489e-01,\n",
       "        1.30368402e+00,  2.17095427e+00,  1.47313580e+00, -1.09801069e+00,\n",
       "        6.26584649e-01,  3.69839449e-01, -1.26437803e+00, -1.61790578e+00,\n",
       "       -9.16982480e-01,  2.53076552e-02, -4.39592014e-01,  1.14166990e+00,\n",
       "        1.02276312e+00,  1.22186563e+00, -5.07793817e-01,  1.45158098e-01,\n",
       "       -1.16318642e+00,  2.21472610e-01, -7.79542017e-01,  8.60601926e-01,\n",
       "       -3.95768898e-01,  1.24002313e+00,  1.74801081e-01, -5.91563392e-01,\n",
       "       -4.19246389e-01,  1.00097237e+00,  2.40015995e-01, -2.39801043e+00,\n",
       "       -4.53605259e-01, -7.48186090e-01, -1.13601833e+00,  1.62547416e+00,\n",
       "       -3.92845304e-02,  8.94906922e-01,  8.39141408e-01,  3.40717232e-01,\n",
       "       -3.79773135e-01,  3.13558275e-01,  2.56822869e+00,  6.08788195e-01,\n",
       "       -9.95163620e-01, -7.73008151e-01, -1.01163179e+00, -8.36818172e-01,\n",
       "       -1.44426802e+00, -4.44923531e-01,  3.49081202e-01,  3.77904509e-01,\n",
       "       -2.50110087e-01,  2.06154813e-01,  8.28402807e-01,  4.53058220e-01,\n",
       "       -1.26055129e+00, -1.25372691e+00,  1.15926615e-01,  6.69578842e-01,\n",
       "       -6.35216366e-01, -8.02141938e-01, -1.99245783e-01,  2.32494505e+00,\n",
       "       -6.72671687e-01, -4.77844830e-01, -6.32195842e-02, -1.89007694e+00,\n",
       "       -1.08536301e+00,  5.99590578e-01, -6.01088346e-01, -2.28378826e+00,\n",
       "       -3.93922530e-01, -1.34745265e+00,  7.56487989e-01,  1.60259422e-02,\n",
       "       -1.84980499e+00,  4.31914077e-01,  8.14765226e-01, -1.40778016e-01,\n",
       "        2.91890851e-01, -3.33801183e-01, -7.94822818e-01,  3.01870535e-02,\n",
       "        6.00600135e-01, -4.94186103e-01,  3.41015660e-02, -7.50916747e-01,\n",
       "       -9.21016318e-01,  3.10229981e-01,  1.19468281e+00, -1.47344291e+00,\n",
       "        2.79588806e-01, -9.05576491e-01, -2.29436671e+00,  8.86323330e-01,\n",
       "        1.35356121e+00,  2.74547714e-02,  5.18125287e-01,  2.34339006e-02,\n",
       "       -1.45265326e-02, -5.02737421e-02,  8.06494717e-02,  3.67938284e-02,\n",
       "        2.11862512e+00, -8.93215465e-01,  1.15338493e+00,  2.22746806e+00,\n",
       "       -1.49753960e-01,  3.61278932e-01,  1.03092603e+00,  1.36245832e+00,\n",
       "       -7.48461700e-01, -2.14639058e+00, -1.05622714e+00,  7.20785181e-01,\n",
       "        1.04675073e-01,  5.61716142e-01, -2.65463880e-01, -5.50970436e-02,\n",
       "        1.03801768e-01, -4.47177348e-01, -8.16873695e-01, -1.72189768e+00,\n",
       "        7.91435951e-01, -3.83507267e-01, -1.48422992e+00, -6.68609528e-03,\n",
       "       -9.40400401e-01, -6.56421831e-01, -1.02063182e+00, -4.38410461e-01,\n",
       "       -2.11544393e-02, -9.07116086e-01, -1.74960081e-02, -2.03303771e+00,\n",
       "        1.89292327e+00, -1.66020110e+00,  3.64326814e-01, -4.16711704e-01,\n",
       "        5.47397951e-01, -2.23757797e-01,  1.18996731e-01,  1.48524750e+00,\n",
       "       -1.06299142e+00,  5.47509554e-01,  1.86614009e+00,  2.23493866e-01,\n",
       "        6.36187642e-02,  5.27005917e-01,  1.78480199e+00,  6.12498724e-01,\n",
       "       -4.11738562e-01, -7.26985426e-01, -2.20631031e+00,  1.09704040e-01,\n",
       "        2.00083724e+00,  1.36642742e-01,  1.03363922e+00, -8.75940961e-02,\n",
       "       -8.13510027e-01,  1.09085177e+00,  5.09470298e-01,  8.62349189e-01,\n",
       "        6.47406201e-01,  7.29108331e-01,  4.50308528e-01,  5.11157869e-01,\n",
       "        8.40320847e-01,  9.03368655e-02, -3.20336921e+00, -3.31069374e-01,\n",
       "        4.45833379e-01, -1.27620663e+00,  1.49196220e-01,  3.84119784e-01,\n",
       "       -7.95534623e-01, -2.05559474e-02, -1.33040076e+00, -1.51852330e+00,\n",
       "        1.49590255e+00, -2.83464238e-02,  5.73056729e-01, -6.41157046e-01,\n",
       "       -4.08521779e-01, -1.12000657e+00, -2.93717333e+00,  5.63349426e-01,\n",
       "        4.65449535e-01, -6.48754629e-01, -5.98339705e-01,  3.37032244e-01,\n",
       "        4.38863393e-02, -3.45751723e-01,  7.67288072e-01, -2.05403768e+00,\n",
       "       -7.42899550e-01,  4.09638113e-01, -9.43292228e-01, -5.65694016e-01,\n",
       "        3.74409448e-02, -7.57059257e-02,  5.30806294e-01, -3.35530979e-01,\n",
       "       -2.35343649e-01, -9.74499101e-01, -6.40954969e-01,  5.68927899e-01,\n",
       "        1.21804986e-01, -3.62874415e-03,  1.86280942e-01, -1.53585518e+00,\n",
       "       -5.86175091e-01,  3.81397692e-01,  8.22838507e-02,  8.04928132e-01,\n",
       "       -7.65565829e-01, -2.16739607e-03,  9.25626857e-04,  1.30590257e+00,\n",
       "        3.86826510e-01,  8.98848310e-01,  1.39338428e+00,  1.61820017e-02,\n",
       "       -3.27991726e-01,  9.29144828e-01, -9.45189143e-01, -1.90060893e-01,\n",
       "       -1.95757402e+00,  3.52450565e-01,  1.27220810e+00,  5.91733049e-01,\n",
       "        7.40605877e-01,  1.57926909e+00,  3.12794380e-01,  1.15654512e+00,\n",
       "        1.01238131e+00,  2.34245218e-01, -1.46145111e+00,  3.75840476e-02,\n",
       "       -4.66879515e-01, -6.41653172e-01,  2.22290362e-01,  1.05153898e+00,\n",
       "        9.03969099e-01,  2.36364183e-01,  6.22114350e-02,  1.43873151e+00,\n",
       "       -8.15677831e-02,  3.74436392e-01, -2.19757286e-01,  6.47044159e-01,\n",
       "       -5.04617750e-01,  3.03504990e-01,  4.51848809e-01,  6.00994500e-02,\n",
       "        4.66953275e-01, -2.58030956e+00, -5.56992005e-01,  1.19518084e+00,\n",
       "        1.07838959e+00, -1.08971527e+00,  8.46546242e-02, -4.85271355e-01,\n",
       "        7.62864095e-01,  4.58449332e-01, -2.68178031e-01, -1.01291492e+00,\n",
       "        5.81747503e-01, -3.27179715e-02,  4.76317283e-01, -9.65277191e-01,\n",
       "       -2.04564831e+00,  4.11685859e-02,  8.87695783e-01,  7.87340919e-01,\n",
       "       -1.01977322e+00,  8.19628691e-02,  1.87520854e+00,  9.72987783e-02,\n",
       "       -5.56059821e-01, -1.82176226e+00, -1.02707779e+00, -1.17710631e+00,\n",
       "        3.46538831e-01, -1.20860182e-01,  1.39260333e+00,  7.00633503e-02,\n",
       "        7.46017038e-01,  5.31274794e-02,  4.58283002e-01, -2.90281018e-02,\n",
       "       -2.52511774e+00, -6.64947551e-01, -2.71604483e-01, -1.10905872e+00,\n",
       "        2.20242104e+00, -5.25300236e-01, -3.99629032e-01,  2.23223143e+00])"
      ]
     },
     "execution_count": 19,
     "metadata": {},
     "output_type": "execute_result"
    }
   ],
   "source": [
    "a"
   ]
  },
  {
   "cell_type": "code",
   "execution_count": 17,
   "metadata": {},
   "outputs": [
    {
     "data": {
      "text/plain": [
       "(array([  4.,  28.,  72., 146., 210., 252., 189.,  72.,  22.,   5.]),\n",
       " array([-3.23569209, -2.59920753, -1.96272297, -1.32623841, -0.68975384,\n",
       "        -0.05326928,  0.58321528,  1.21969984,  1.8561844 ,  2.49266896,\n",
       "         3.12915352]),\n",
       " <a list of 10 Patch objects>)"
      ]
     },
     "execution_count": 17,
     "metadata": {},
     "output_type": "execute_result"
    },
    {
     "data": {
      "image/png": "[encoded data removed]",
      "text/plain": [
       "<Figure size 432x288 with 1 Axes>"
      ]
     },
     "metadata": {
      "needs_background": "light"
     },
     "output_type": "display_data"
    }
   ],
   "source": [
    "fig,axes = plt.subplots(1, 1)\n",
    "axes.hist(np.random.randn(1000))"
   ]
  },
  {
   "cell_type": "code",
   "execution_count": 20,
   "metadata": {},
   "outputs": [
    {
     "data": {
      "text/plain": [
       "(array([  4.,   0.,  10.,  11.,  19.,  33.,  52.,  84., 116., 111., 133.,\n",
       "        133.,  98.,  71.,  63.,  23.,  21.,  11.,   5.,   2.]),\n",
       " array([-3.20336921, -2.89223664, -2.58110407, -2.2699715 , -1.95883893,\n",
       "        -1.64770636, -1.33657379, -1.02544122, -0.71430865, -0.40317608,\n",
       "        -0.09204351,  0.21908906,  0.53022163,  0.8413542 ,  1.15248677,\n",
       "         1.46361934,  1.77475191,  2.08588448,  2.39701705,  2.70814962,\n",
       "         3.01928219]),\n",
       " <a list of 20 Patch objects>)"
      ]
     },
     "execution_count": 20,
     "metadata": {},
     "output_type": "execute_result"
    },
    {
     "data": {
      "image/png": "[encoded data removed]",
      "text/plain": [
       "<Figure size 432x288 with 1 Axes>"
      ]
     },
     "metadata": {
      "needs_background": "light"
     },
     "output_type": "display_data"
    }
   ],
   "source": [
    "plt.hist(a,20)"
   ]
  },
  {
   "cell_type": "code",
   "execution_count": 24,
   "metadata": {},
   "outputs": [],
   "source": [
    "histvalue,histbin=np.histogram(a)"
   ]
  },
  {
   "cell_type": "code",
   "execution_count": 25,
   "metadata": {},
   "outputs": [
    {
     "data": {
      "text/plain": [
       "array([-3.20336921, -2.58110407, -1.95883893, -1.33657379, -0.71430865,\n",
       "       -0.09204351,  0.53022163,  1.15248677,  1.77475191,  2.39701705,\n",
       "        3.01928219])"
      ]
     },
     "execution_count": 25,
     "metadata": {},
     "output_type": "execute_result"
    }
   ],
   "source": [
    "histbin"
   ]
  },
  {
   "cell_type": "code",
   "execution_count": 26,
   "metadata": {},
   "outputs": [
    {
     "data": {
      "text/plain": [
       "array([  4,  21,  52, 136, 227, 266, 169,  86,  32,   7])"
      ]
     },
     "execution_count": 26,
     "metadata": {},
     "output_type": "execute_result"
    }
   ],
   "source": [
    "histvalue"
   ]
  },
  {
   "cell_type": "code",
   "execution_count": 27,
   "metadata": {},
   "outputs": [
    {
     "data": {
      "text/plain": [
       "11"
      ]
     },
     "execution_count": 27,
     "metadata": {},
     "output_type": "execute_result"
    }
   ],
   "source": [
    "len(histbin)"
   ]
  },
  {
   "cell_type": "code",
   "execution_count": 28,
   "metadata": {},
   "outputs": [
    {
     "data": {
      "text/plain": [
       "10"
      ]
     },
     "execution_count": 28,
     "metadata": {},
     "output_type": "execute_result"
    }
   ],
   "source": [
    "len(histvalue)"
   ]
  },
  {
   "cell_type": "code",
   "execution_count": 29,
   "metadata": {},
   "outputs": [
    {
     "data": {
      "text/plain": [
       "[<matplotlib.lines.Line2D at 0x7fbf41fb4eb8>]"
      ]
     },
     "execution_count": 29,
     "metadata": {},
     "output_type": "execute_result"
    },
    {
     "data": {
      "image/png": "[encoded data removed]",
      "text/plain": [
       "<Figure size 432x288 with 1 Axes>"
      ]
     },
     "metadata": {
      "needs_background": "light"
     },
     "output_type": "display_data"
    }
   ],
   "source": [
    "plt.plot(histbin[:-1],histvalue)"
   ]
  },
  {
   "cell_type": "code",
   "execution_count": 30,
   "metadata": {},
   "outputs": [
    {
     "data": {
      "text/plain": [
       "<matplotlib.collections.PathCollection at 0x7fbf41f0eeb8>"
      ]
     },
     "execution_count": 30,
     "metadata": {},
     "output_type": "execute_result"
    },
    {
     "data": {
      "image/png": "[encoded data removed]",
      "text/plain": [
       "<Figure size 432x288 with 1 Axes>"
      ]
     },
     "metadata": {
      "needs_background": "light"
     },
     "output_type": "display_data"
    }
   ],
   "source": [
    "plt.scatter(histbin[:-1],histvalue)"
   ]
  },
  {
   "cell_type": "code",
   "execution_count": 38,
   "metadata": {},
   "outputs": [],
   "source": [
    "histvalue = np.concatenate(([histvalue[0]],histvalue))"
   ]
  },
  {
   "cell_type": "code",
   "execution_count": 41,
   "metadata": {},
   "outputs": [
    {
     "data": {
      "text/plain": [
       "[<matplotlib.lines.Line2D at 0x7fbf422d2a20>]"
      ]
     },
     "execution_count": 41,
     "metadata": {},
     "output_type": "execute_result"
    },
    {
     "data": {
      "image/png": "[encoded data removed]",
      "text/plain": [
       "<Figure size 432x288 with 1 Axes>"
      ]
     },
     "metadata": {},
     "output_type": "display_data"
    }
   ],
   "source": [
    "plt.plot(histbin,histvalue,ls='steps')"
   ]
  },
  {
   "cell_type": "code",
   "execution_count": 46,
   "metadata": {},
   "outputs": [],
   "source": [
    "X = stats.norm(1,0.5)#1是对称轴，0.5是半高的位置"
   ]
  },
  {
   "cell_type": "code",
   "execution_count": 47,
   "metadata": {},
   "outputs": [
    {
     "data": {
      "text/plain": [
       "<scipy.stats._distn_infrastructure.rv_frozen at 0x7fbf4220b160>"
      ]
     },
     "execution_count": 47,
     "metadata": {},
     "output_type": "execute_result"
    }
   ],
   "source": [
    "X"
   ]
  },
  {
   "cell_type": "code",
   "execution_count": 48,
   "metadata": {},
   "outputs": [
    {
     "data": {
      "text/plain": [
       "1.0"
      ]
     },
     "execution_count": 48,
     "metadata": {},
     "output_type": "execute_result"
    }
   ],
   "source": [
    "X.mean()#中值"
   ]
  },
  {
   "cell_type": "code",
   "execution_count": 49,
   "metadata": {},
   "outputs": [
    {
     "data": {
      "text/plain": [
       "1.0"
      ]
     },
     "execution_count": 49,
     "metadata": {},
     "output_type": "execute_result"
    }
   ],
   "source": [
    "X.median()"
   ]
  },
  {
   "cell_type": "code",
   "execution_count": 50,
   "metadata": {},
   "outputs": [
    {
     "data": {
      "text/plain": [
       "0.5"
      ]
     },
     "execution_count": 50,
     "metadata": {},
     "output_type": "execute_result"
    }
   ],
   "source": [
    "X.std()"
   ]
  },
  {
   "cell_type": "code",
   "execution_count": 51,
   "metadata": {},
   "outputs": [
    {
     "data": {
      "text/plain": [
       "0.25"
      ]
     },
     "execution_count": 51,
     "metadata": {},
     "output_type": "execute_result"
    }
   ],
   "source": [
    "X.var()"
   ]
  },
  {
   "cell_type": "code",
   "execution_count": 52,
   "metadata": {},
   "outputs": [
    {
     "data": {
      "text/plain": [
       "[1.0, 1.0, 1.25, 1.75, 2.6875]"
      ]
     },
     "execution_count": 52,
     "metadata": {},
     "output_type": "execute_result"
    }
   ],
   "source": [
    "[X.moment(n) for n in range(5)]"
   ]
  },
  {
   "cell_type": "code",
   "execution_count": 53,
   "metadata": {},
   "outputs": [
    {
     "data": {
      "text/plain": [
       "(array(1.), array(0.25))"
      ]
     },
     "execution_count": 53,
     "metadata": {},
     "output_type": "execute_result"
    }
   ],
   "source": [
    "X.stats()"
   ]
  },
  {
   "cell_type": "code",
   "execution_count": 54,
   "metadata": {},
   "outputs": [
    {
     "data": {
      "text/plain": [
       "array([0.10798193, 0.79788456, 0.10798193])"
      ]
     },
     "execution_count": 54,
     "metadata": {},
     "output_type": "execute_result"
    }
   ],
   "source": [
    "X.pdf([0, 1, 2])"
   ]
  },
  {
   "cell_type": "code",
   "execution_count": 55,
   "metadata": {},
   "outputs": [
    {
     "data": {
      "text/plain": [
       "array([0.02275013, 0.5       , 0.97724987])"
      ]
     },
     "execution_count": 55,
     "metadata": {},
     "output_type": "execute_result"
    }
   ],
   "source": [
    "X.cdf([0, 1, 2])"
   ]
  },
  {
   "cell_type": "code",
   "execution_count": 59,
   "metadata": {},
   "outputs": [
    {
     "data": {
      "image/png": "[encoded data removed]",
      "text/plain": [
       "<Figure size 432x288 with 1 Axes>"
      ]
     },
     "metadata": {},
     "output_type": "display_data"
    }
   ],
   "source": [
    "x = np.linspace(-2,5,101)          #101表示点的多少，点多点比较好\n",
    "plt.plot(x,X.pdf(x),label='pdf')\n",
    "plt.plot(x,X.cdf(x),label='cdf')\n",
    "plt.legend()\n",
    "plt.show()"
   ]
  },
  {
   "cell_type": "code",
   "execution_count": 61,
   "metadata": {},
   "outputs": [
    {
     "data": {
      "text/plain": [
       "(-0.162237966505272, 2.162237966505272)"
      ]
     },
     "execution_count": 61,
     "metadata": {},
     "output_type": "execute_result"
    }
   ],
   "source": [
    "X.interval(0.9799)"
   ]
  },
  {
   "cell_type": "code",
   "execution_count": 63,
   "metadata": {},
   "outputs": [
    {
     "data": {
      "text/plain": [
       "(array(1.), array(0.25))"
      ]
     },
     "execution_count": 63,
     "metadata": {},
     "output_type": "execute_result"
    }
   ],
   "source": [
    "X.stats()"
   ]
  },
  {
   "cell_type": "code",
   "execution_count": 77,
   "metadata": {},
   "outputs": [],
   "source": [
    "X = stats.poisson(50,1)"
   ]
  },
  {
   "cell_type": "code",
   "execution_count": 78,
   "metadata": {},
   "outputs": [],
   "source": [
    "x = np.arange(100)"
   ]
  },
  {
   "cell_type": "code",
   "execution_count": 79,
   "metadata": {},
   "outputs": [
    {
     "data": {
      "text/plain": [
       "<BarContainer object of 100 artists>"
      ]
     },
     "execution_count": 79,
     "metadata": {},
     "output_type": "execute_result"
    },
    {
     "data": {
      "image/png": "[encoded data removed]",
      "text/plain": [
       "<Figure size 432x288 with 1 Axes>"
      ]
     },
     "metadata": {},
     "output_type": "display_data"
    }
   ],
   "source": [
    "plt.bar(x,X.pmf(x))"
   ]
  },
  {
   "cell_type": "code",
   "execution_count": 83,
   "metadata": {},
   "outputs": [
    {
     "data": {
      "text/plain": [
       "<BarContainer object of 20 artists>"
      ]
     },
     "execution_count": 83,
     "metadata": {},
     "output_type": "execute_result"
    },
    {
     "data": {
      "image/png": "[encoded data removed]",
      "text/plain": [
       "<Figure size 432x288 with 1 Axes>"
      ]
     },
     "metadata": {},
     "output_type": "display_data"
    }
   ],
   "source": [
    "X = stats.poisson(10,1)\n",
    "x = np.arange(20)\n",
    "plt.bar(x,X.cdf(x))   #bar不连续，plot是连续的，就这点区别"
   ]
  },
  {
   "cell_type": "code",
   "execution_count": 110,
   "metadata": {},
   "outputs": [],
   "source": [
    "def plot_rv_distribution(X, axes=None):\n",
    "    '''Plot the PDF or PMF, CDF, SF and PPF of a given random variable'''\n",
    "    if axes is None:\n",
    "         fig, axes = plt.subplots(1, 3, figsize=(12, 3))\n",
    "\n",
    "    x_min_999, x_max_999 = X.interval(0.999)\n",
    "    x999 = np.linspace(x_min_999, x_max_999, 1000)\n",
    "    x_min_95, x_max_95 = X.interval(0.95)\n",
    "    x95 = np.linspace(x_min_95, x_max_95, 1000)\n",
    "\n",
    "    if hasattr(X.dist, \"pdf\"):\n",
    "        axes[0].plot(x999, X.pdf(x999), label=\"PDF\")\n",
    "        axes[0].fill_between(x95, X.pdf(x95), alpha=0.25)\n",
    "    else:\n",
    "         # discrete random variables do not have a pdf method,instead we use pmf:\n",
    "        x999_int = np.unique(x999.astype(int))\n",
    "        axes[0].bar(x999_int, X.pmf(x999_int), label=\"PMF\")\n",
    "    axes[1].plot(x999, X.cdf(x999), label=\"CDF\")\n",
    "    axes[1].plot(x999, X.sf(x999), label=\"SF\")\n",
    "    axes[2].plot(x999, X.ppf(x999), label=\"PPF\")\n",
    "\n",
    "    for ax in axes:\n",
    "        ax.legend()"
   ]
  },
  {
   "cell_type": "code",
   "execution_count": 111,
   "metadata": {},
   "outputs": [
    {
     "data": {
      "text/plain": [
       "Text(0, 0.5, 'Poisson dist.')"
      ]
     },
     "execution_count": 111,
     "metadata": {},
     "output_type": "execute_result"
    },
    {
     "data": {
      "image/png": "[encoded data removed]",
      "text/plain": [
       "<Figure size 864x648 with 9 Axes>"
      ]
     },
     "metadata": {},
     "output_type": "display_data"
    }
   ],
   "source": [
    "fig, axes = plt.subplots(3, 3, figsize=(12, 9))\n",
    "X = stats.norm()\n",
    "plot_rv_distribution(X, axes=axes[0, :])\n",
    "axes[0, 0].set_ylabel(\"Normal dist.\")\n",
    "X = stats.f(2, 50)\n",
    "plot_rv_distribution(X, axes=axes[1, :])\n",
    "axes[1, 0].set_ylabel(\"F dist.\")\n",
    "X = stats.poisson(5)\n",
    "plot_rv_distribution(X, axes=axes[2, :])\n",
    "axes[2, 0].set_ylabel(\"Poisson dist.\")"
   ]
  },
  {
   "cell_type": "code",
   "execution_count": 113,
   "metadata": {},
   "outputs": [
    {
     "data": {
      "text/plain": [
       "array([ 6,  5,  7,  5,  3,  6,  7,  4,  4,  4,  6,  4,  2,  4,  4,  4,  3,\n",
       "        6,  9,  9,  7,  6,  2,  5,  4,  5,  5,  5,  6,  3,  4,  3,  4,  4,\n",
       "        6,  6,  7,  1,  6,  4,  8,  6,  4,  6,  5, 11,  4,  6,  1,  6,  5,\n",
       "        9,  1,  6,  5,  6,  1,  4,  2,  6,  6,  5,  5,  4,  5,  2,  6,  7,\n",
       "        4,  1,  3,  5,  7,  4,  0,  7,  1, 10,  5,  3,  2,  4, 10,  3,  1,\n",
       "        6,  6,  7,  6,  3,  4,  5,  9,  5,  1,  9,  6,  6,  9,  5])"
      ]
     },
     "execution_count": 113,
     "metadata": {},
     "output_type": "execute_result"
    }
   ],
   "source": [
    "X.rvs(100)"
   ]
  },
  {
   "cell_type": "code",
   "execution_count": 115,
   "metadata": {},
   "outputs": [
    {
     "data": {
      "text/plain": [
       "array([-0.44607647,  0.09825117,  0.25284672, ...,  0.25682258,\n",
       "       -1.05554146, -0.47448229])"
      ]
     },
     "execution_count": 115,
     "metadata": {},
     "output_type": "execute_result"
    }
   ],
   "source": [
    "np.random.randn(10000)"
   ]
  },
  {
   "cell_type": "code",
   "execution_count": 118,
   "metadata": {},
   "outputs": [
    {
     "data": {
      "text/plain": [
       "(array([  1.,   0.,   0.,   3.,   3.,   4.,   6.,  12.,  13.,  22.,  28.,\n",
       "         43.,  69.,  87., 110., 167., 169., 256., 317., 340., 389., 458.,\n",
       "        554., 558., 567., 635., 637., 605., 564., 552., 534., 452., 355.,\n",
       "        318., 245., 232., 177., 136.,  99.,  93.,  51.,  45.,  41.,  19.,\n",
       "          9.,  12.,   7.,   3.,   0.,   3.]),\n",
       " array([-4.06826341, -3.91416954, -3.76007567, -3.6059818 , -3.45188794,\n",
       "        -3.29779407, -3.1437002 , -2.98960634, -2.83551247, -2.6814186 ,\n",
       "        -2.52732473, -2.37323087, -2.219137  , -2.06504313, -1.91094927,\n",
       "        -1.7568554 , -1.60276153, -1.44866766, -1.2945738 , -1.14047993,\n",
       "        -0.98638606, -0.83229219, -0.67819833, -0.52410446, -0.37001059,\n",
       "        -0.21591673, -0.06182286,  0.09227101,  0.24636488,  0.40045874,\n",
       "         0.55455261,  0.70864648,  0.86274034,  1.01683421,  1.17092808,\n",
       "         1.32502195,  1.47911581,  1.63320968,  1.78730355,  1.94139742,\n",
       "         2.09549128,  2.24958515,  2.40367902,  2.55777288,  2.71186675,\n",
       "         2.86596062,  3.02005449,  3.17414835,  3.32824222,  3.48233609,\n",
       "         3.63642995]),\n",
       " <a list of 50 Patch objects>)"
      ]
     },
     "execution_count": 118,
     "metadata": {},
     "output_type": "execute_result"
    },
    {
     "data": {
      "image/png": "[encoded data removed]",
      "text/plain": [
       "<Figure size 432x288 with 1 Axes>"
      ]
     },
     "metadata": {},
     "output_type": "display_data"
    }
   ],
   "source": [
    "X = stats.norm(0,1)\n",
    "b = X.rvs(10000)         #高斯分布\n",
    "plt.hist(b,50)"
   ]
  },
  {
   "cell_type": "code",
   "execution_count": 134,
   "metadata": {},
   "outputs": [
    {
     "data": {
      "text/plain": [
       "array([1.39264717, 1.61963599, 0.3696903 , 1.21466295, 0.62211904,\n",
       "       0.59409383, 1.59358408, 0.82046794, 1.42284397, 1.56985172])"
      ]
     },
     "execution_count": 134,
     "metadata": {},
     "output_type": "execute_result"
    }
   ],
   "source": [
    "X = stats.norm(1, 0.5)\n",
    "X.rvs(10)"
   ]
  },
  {
   "cell_type": "code",
   "execution_count": 177,
   "metadata": {},
   "outputs": [
    {
     "data": {
      "text/plain": [
       "(array(2.), array(0.25))"
      ]
     },
     "execution_count": 177,
     "metadata": {},
     "output_type": "execute_result"
    }
   ],
   "source": [
    "stats.norm.stats(loc=2, scale=0.5)"
   ]
  },
  {
   "cell_type": "code",
   "execution_count": 178,
   "metadata": {},
   "outputs": [
    {
     "data": {
      "text/plain": [
       "(array(1.), array(0.25))"
      ]
     },
     "execution_count": 178,
     "metadata": {},
     "output_type": "execute_result"
    }
   ],
   "source": [
    "stats.norm(loc=1, scale=0.5).stats()"
   ]
  },
  {
   "cell_type": "code",
   "execution_count": 180,
   "metadata": {},
   "outputs": [
    {
     "data": {
      "text/plain": [
       "array([1.12019545, 1.05026066, 0.37370399, 1.33639827, 0.81315793,\n",
       "       0.44797049, 1.28288083, 0.14939049, 0.46039869, 1.99508902])"
      ]
     },
     "execution_count": 180,
     "metadata": {},
     "output_type": "execute_result"
    }
   ],
   "source": [
    "X = stats.norm(1, 0.5)\n",
    "X.rvs(10)"
   ]
  },
  {
   "cell_type": "code",
   "execution_count": 233,
   "metadata": {},
   "outputs": [],
   "source": [
    "def plot_dist_samples(X,X_samples,title=None,ax=None):\n",
    "    if ax is None:\n",
    "        fig,ax = plt.subplots(1,1,figsize=(8,4))\n",
    "\n",
    "    x_lim = X.interval(.99)\n",
    "    x = np.linspace(*x_lim,num=100)\n",
    "\n",
    "    ax.plot(x,X.pdf(x),label='PDF',lw=3)\n",
    "    ax.hist(X_samples,label='samples',density=1,bins=75)#这里把normed变成了density，后续版本normed将被移除\n",
    "    ax.set_xlim(*x_lim)\n",
    "    ax.legend()\n",
    "\n",
    "    if title:\n",
    "        ax.set_title(title)\n",
    "    return ax"
   ]
  },
  {
   "cell_type": "code",
   "execution_count": 234,
   "metadata": {},
   "outputs": [
    {
     "data": {
      "text/plain": [
       "<matplotlib.axes._subplots.AxesSubplot at 0x7fbf3ac33c88>"
      ]
     },
     "execution_count": 234,
     "metadata": {},
     "output_type": "execute_result"
    },
    {
     "data": {
      "image/png": "[encoded data removed]",
      "text/plain": [
       "<Figure size 864x216 with 3 Axes>"
      ]
     },
     "metadata": {},
     "output_type": "display_data"
    }
   ],
   "source": [
    "fig, axes = plt.subplots(1, 3, figsize=(12, 3))\n",
    "N = 2000\n",
    "# Student's t distribution\n",
    "X = stats.t(7.0)\n",
    "plot_dist_samples(X, X.rvs(N), \"Student's t dist.\", ax=axes[0])\n",
    "# The chisquared distribution\n",
    "X = stats.chi2(5.0)\n",
    "plot_dist_samples(X, X.rvs(N), r\"$\\chi^2$ dist.\", ax=axes[1])\n",
    "X = stats.expon(0.5)\n",
    "plot_dist_samples(X, X.rvs(N), \"exponential dist.\", ax=axes[2])"
   ]
  },
  {
   "cell_type": "code",
   "execution_count": null,
   "metadata": {},
   "outputs": [],
   "source": [
    "#随机变量（random variable）表示随机试验各种结果的实值单值函数。rvs:random variable sample"
   ]
  },
  {
   "cell_type": "code",
   "execution_count": null,
   "metadata": {},
   "outputs": [],
   "source": []
  }
 ],
 "metadata": {
  "kernelspec": {
   "display_name": "Python 3",
   "language": "python",
   "name": "python3"
  },
  "language_info": {
   "codemirror_mode": {
    "name": "ipython",
    "version": 3
   },
   "file_extension": ".py",
   "mimetype": "text/x-python",
   "name": "python",
   "nbconvert_exporter": "python",
   "pygments_lexer": "ipython3",
   "version": "3.6.8"
  }
 },
 "nbformat": 4,
 "nbformat_minor": 2
}
