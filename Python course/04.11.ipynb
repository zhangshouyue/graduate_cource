{
 "cells": [
  {
   "cell_type": "code",
   "execution_count": 1,
   "metadata": {},
   "outputs": [],
   "source": [
    "from astropy.io import fits\n",
    "fits_image_filename = fits.util.get_testdata_filepath('test0.fits')\n",
    "hdul = fits.open(fits_image_filename)"
   ]
  },
  {
   "cell_type": "code",
   "execution_count": null,
   "metadata": {},
   "outputs": [],
   "source": [
    "hdul.info()\n",
    "Filename: ...test0.fits\n",
    "No.    Name      Ver    Type      Cards   Dimensions   Format\n",
    "  0  PRIMARY       1 PrimaryHDU     138   ()\n",
    "  1  SCI           1 ImageHDU        61   (40, 40)   int16\n",
    "  2  SCI           2 ImageHDU        61   (40, 40)   int16\n",
    "  3  SCI           3 ImageHDU        61   (40, 40)   int16\n",
    "  4  SCI           4 ImageHDU        61   (40, 40)   int16"
   ]
  },
  {
   "cell_type": "code",
   "execution_count": 2,
   "metadata": {},
   "outputs": [],
   "source": [
    "hdul.close()"
   ]
  },
  {
   "cell_type": "code",
   "execution_count": 3,
   "metadata": {},
   "outputs": [
    {
     "ename": "SyntaxError",
     "evalue": "invalid syntax (<ipython-input-3-bdc37fd0b6c6>, line 3)",
     "output_type": "error",
     "traceback": [
      "\u001b[0;36m  File \u001b[0;32m\"<ipython-input-3-bdc37fd0b6c6>\"\u001b[0;36m, line \u001b[0;32m3\u001b[0m\n\u001b[0;31m    Filename: ...test0.fits\u001b[0m\n\u001b[0m                     ^\u001b[0m\n\u001b[0;31mSyntaxError\u001b[0m\u001b[0;31m:\u001b[0m invalid syntax\n"
     ]
    }
   ],
   "source": [
    "with fits.open(fits_image_filename) as hdul:\n",
    "...     hdul.info()\n",
    "Filename: ...test0.fits\n",
    "No.    Name      Ver    Type      Cards   Dimensions   Format\n",
    "  0  PRIMARY       1 PrimaryHDU     138   ()\n",
    "  1  SCI           1 ImageHDU        61   (40, 40)   int16\n",
    "  2  SCI           2 ImageHDU        61   (40, 40)   int16\n",
    "  3  SCI           3 ImageHDU        61   (40, 40)   int16\n",
    "  4  SCI           4 ImageHDU        61   (40, 40)   int16"
   ]
  },
  {
   "cell_type": "code",
   "execution_count": 4,
   "metadata": {},
   "outputs": [
    {
     "data": {
      "text/plain": [
       "'01/04/99'"
      ]
     },
     "execution_count": 4,
     "metadata": {},
     "output_type": "execute_result"
    }
   ],
   "source": [
    "hdul = fits.open(fits_image_filename)\n",
    "hdul[0].header['DATE']\n",
    "'01/04/99'"
   ]
  },
  {
   "cell_type": "code",
   "execution_count": 5,
   "metadata": {},
   "outputs": [
    {
     "data": {
      "text/plain": [
       "32768.0"
      ]
     },
     "execution_count": 5,
     "metadata": {},
     "output_type": "execute_result"
    }
   ],
   "source": [
    "hdul[0].header[7]\n",
    "32768.0"
   ]
  },
  {
   "cell_type": "code",
   "execution_count": 6,
   "metadata": {},
   "outputs": [],
   "source": [
    " hdr = hdul[0].header\n",
    "hdr['targname'] = 'NGC121-a'\n",
    "hdr[27] = 99"
   ]
  },
  {
   "cell_type": "code",
   "execution_count": 7,
   "metadata": {},
   "outputs": [
    {
     "data": {
      "text/plain": [
       "'the observation target'"
      ]
     },
     "execution_count": 7,
     "metadata": {},
     "output_type": "execute_result"
    }
   ],
   "source": [
    "hdr = hdul[0].header\n",
    "hdr['targname'] = ('NGC121-a', 'the observation target')\n",
    "hdr['targname']\n",
    "'NGC121-a'\n",
    "hdr.comments['targname']\n",
    "'the observation target'"
   ]
  },
  {
   "cell_type": "code",
   "execution_count": null,
   "metadata": {},
   "outputs": [],
   "source": [
    "hdr.set('observer', 'Edwin Hubble')"
   ]
  },
  {
   "cell_type": "code",
   "execution_count": null,
   "metadata": {},
   "outputs": [],
   "source": []
  },
  {
   "cell_type": "code",
   "execution_count": null,
   "metadata": {},
   "outputs": [],
   "source": []
  },
  {
   "cell_type": "code",
   "execution_count": null,
   "metadata": {},
   "outputs": [],
   "source": []
  },
  {
   "cell_type": "code",
   "execution_count": null,
   "metadata": {},
   "outputs": [],
   "source": []
  }
 ],
 "metadata": {
  "kernelspec": {
   "display_name": "Python 3",
   "language": "python",
   "name": "python3"
  },
  "language_info": {
   "codemirror_mode": {
    "name": "ipython",
    "version": 3
   },
   "file_extension": ".py",
   "mimetype": "text/x-python",
   "name": "python",
   "nbconvert_exporter": "python",
   "pygments_lexer": "ipython3",
   "version": "3.6.7"
  }
 },
 "nbformat": 4,
 "nbformat_minor": 2
}
